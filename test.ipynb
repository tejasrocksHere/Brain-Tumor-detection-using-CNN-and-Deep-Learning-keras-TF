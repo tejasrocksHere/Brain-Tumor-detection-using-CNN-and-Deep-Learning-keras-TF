{
 "cells": [
  {
   "cell_type": "code",
   "execution_count": 33,
   "metadata": {},
   "outputs": [],
   "source": [
    "import cv2\n",
    "import os\n",
    "import numpy as np\n",
    "from PIL import Image\n",
    "from sklearn.model_selection import train_test_split\n",
    "from bm3d import bm3d_rgb\n"
   ]
  },
  {
   "cell_type": "markdown",
   "metadata": {},
   "source": []
  },
  {
   "cell_type": "code",
   "execution_count": 34,
   "metadata": {},
   "outputs": [],
   "source": [
    "def denoise_bm3d(image):\n",
    "    return bm3d_rgb(image, sigma_psd=25)"
   ]
  },
  {
   "cell_type": "code",
   "execution_count": 35,
   "metadata": {},
   "outputs": [],
   "source": [
    "image_directory = 'datasets/'\n",
    "dataset = []\n",
    "label = []\n",
    "\n",
    "INTPUT_SIZE=64\n",
    "\n",
    "# List images in 'no' folder\n",
    "no_tumor_images = os.listdir(image_directory + 'no/')\n",
    "for i, image_name in enumerate(no_tumor_images):\n",
    "    if image_name.split('.')[1] == 'jpg':\n",
    "        image = cv2.imread(image_directory + 'no/' + image_name)\n",
    "        image = Image.fromarray(image, 'RGB')\n",
    "        image = image.resize((INTPUT_SIZE, INTPUT_SIZE))\n",
    "        dataset.append(np.array(image))\n",
    "        label.append(0)\n",
    "\n",
    "# List images in 'yes' folder\n",
    "yes_tumor_images = os.listdir(image_directory + 'yes/')\n",
    "for i, image_name in enumerate(yes_tumor_images):\n",
    "    if image_name.split('.')[1] == 'jpg':\n",
    "        image = cv2.imread(image_directory + 'yes/' + image_name)\n",
    "        image = Image.fromarray(image, 'RGB')\n",
    "        image = image.resize((INTPUT_SIZE, INTPUT_SIZE))\n",
    "        dataset.append(np.array(image))\n",
    "        label.append(1)"
   ]
  },
  {
   "cell_type": "code",
   "execution_count": 67,
   "metadata": {},
   "outputs": [],
   "source": [
    "dataset = np.array(dataset)\n",
    "label = np.array(label)\n",
    "\n",
    "# Split the dataset\n",
    "x_train, x_test, y_train, y_test = train_test_split(dataset, label, train_size=0.2, random_state=0)\n"
   ]
  },
  {
   "cell_type": "code",
   "execution_count": 68,
   "metadata": {},
   "outputs": [
    {
     "name": "stdout",
     "output_type": "stream",
     "text": [
      "x_train shape: (600, 64, 64, 3)\n",
      "x_test shape: (2400, 64, 64, 3)\n",
      "y_train shape: (600,)\n",
      "y_test shape: (2400,)\n"
     ]
    }
   ],
   "source": [
    "# Display shapes\n",
    "print(\"x_train shape:\", x_train.shape)\n",
    "print(\"x_test shape:\", x_test.shape)\n",
    "print(\"y_train shape:\", y_train.shape)\n",
    "print(\"y_test shape:\", y_test.shape)"
   ]
  },
  {
   "cell_type": "code",
   "execution_count": 69,
   "metadata": {},
   "outputs": [],
   "source": [
    "from keras.utils import normalize"
   ]
  },
  {
   "cell_type": "code",
   "execution_count": 70,
   "metadata": {},
   "outputs": [],
   "source": [
    "import tensorflow as tf"
   ]
  },
  {
   "cell_type": "code",
   "execution_count": 71,
   "metadata": {},
   "outputs": [],
   "source": [
    "from tensorflow import keras\n",
    "from keras.models import Sequential\n",
    "from keras.layers import Conv2D,MaxPooling2D,Activation,Dropout,Flatten,Dense\n",
    "# from keras.layers \n",
    "from keras.utils import to_categorical"
   ]
  },
  {
   "cell_type": "code",
   "execution_count": 72,
   "metadata": {},
   "outputs": [],
   "source": [
    "x_train=normalize(x_train,axis=1)\n",
    "x_test=normalize(x_test,axis=1)\n",
    "y_train=to_categorical(y_train,num_classes=2)\n",
    "y_test=to_categorical(y_test,num_classes=2)\n",
    "\n",
    "model=Sequential()"
   ]
  },
  {
   "cell_type": "code",
   "execution_count": 73,
   "metadata": {},
   "outputs": [
    {
     "name": "stdout",
     "output_type": "stream",
     "text": [
      "Epoch 1/40\n",
      "19/19 [==============================] - 5s 110ms/step - loss: 0.6790 - accuracy: 0.5617 - val_loss: 0.6442 - val_accuracy: 0.7283\n",
      "Epoch 2/40\n",
      "19/19 [==============================] - 1s 56ms/step - loss: 0.5940 - accuracy: 0.6967 - val_loss: 0.5526 - val_accuracy: 0.7267\n",
      "Epoch 3/40\n",
      "19/19 [==============================] - 1s 52ms/step - loss: 0.5345 - accuracy: 0.7483 - val_loss: 0.5149 - val_accuracy: 0.7550\n",
      "Epoch 4/40\n",
      "19/19 [==============================] - 1s 51ms/step - loss: 0.4989 - accuracy: 0.7667 - val_loss: 0.5219 - val_accuracy: 0.7504\n",
      "Epoch 5/40\n",
      "19/19 [==============================] - 1s 60ms/step - loss: 0.4700 - accuracy: 0.7933 - val_loss: 0.5107 - val_accuracy: 0.7542\n",
      "Epoch 6/40\n",
      "19/19 [==============================] - 1s 67ms/step - loss: 0.4609 - accuracy: 0.8150 - val_loss: 0.4782 - val_accuracy: 0.7700\n",
      "Epoch 7/40\n",
      "19/19 [==============================] - 1s 70ms/step - loss: 0.4133 - accuracy: 0.8317 - val_loss: 0.4402 - val_accuracy: 0.7925\n",
      "Epoch 8/40\n",
      "19/19 [==============================] - 1s 58ms/step - loss: 0.3965 - accuracy: 0.8350 - val_loss: 0.3915 - val_accuracy: 0.8171\n",
      "Epoch 9/40\n",
      "19/19 [==============================] - 1s 55ms/step - loss: 0.3341 - accuracy: 0.8667 - val_loss: 0.3810 - val_accuracy: 0.8208\n",
      "Epoch 10/40\n",
      "19/19 [==============================] - 1s 56ms/step - loss: 0.3112 - accuracy: 0.8783 - val_loss: 0.4244 - val_accuracy: 0.8096\n",
      "Epoch 11/40\n",
      "19/19 [==============================] - 1s 53ms/step - loss: 0.2935 - accuracy: 0.8917 - val_loss: 0.3373 - val_accuracy: 0.8433\n",
      "Epoch 12/40\n",
      "19/19 [==============================] - 1s 52ms/step - loss: 0.2525 - accuracy: 0.9100 - val_loss: 0.3250 - val_accuracy: 0.8521\n",
      "Epoch 13/40\n",
      "19/19 [==============================] - 1s 53ms/step - loss: 0.2313 - accuracy: 0.9167 - val_loss: 0.3291 - val_accuracy: 0.8525\n",
      "Epoch 14/40\n",
      "19/19 [==============================] - 1s 61ms/step - loss: 0.2015 - accuracy: 0.9333 - val_loss: 0.3240 - val_accuracy: 0.8521\n",
      "Epoch 15/40\n",
      "19/19 [==============================] - 1s 53ms/step - loss: 0.1881 - accuracy: 0.9400 - val_loss: 0.3061 - val_accuracy: 0.8608\n",
      "Epoch 16/40\n",
      "19/19 [==============================] - 1s 52ms/step - loss: 0.1560 - accuracy: 0.9500 - val_loss: 0.3265 - val_accuracy: 0.8562\n",
      "Epoch 17/40\n",
      "19/19 [==============================] - 1s 55ms/step - loss: 0.1561 - accuracy: 0.9483 - val_loss: 0.3047 - val_accuracy: 0.8692\n",
      "Epoch 18/40\n",
      "19/19 [==============================] - 1s 53ms/step - loss: 0.1010 - accuracy: 0.9650 - val_loss: 0.2828 - val_accuracy: 0.8913\n",
      "Epoch 19/40\n",
      "19/19 [==============================] - 1s 53ms/step - loss: 0.0805 - accuracy: 0.9767 - val_loss: 0.2768 - val_accuracy: 0.8971\n",
      "Epoch 20/40\n",
      "19/19 [==============================] - 1s 52ms/step - loss: 0.0699 - accuracy: 0.9883 - val_loss: 0.3127 - val_accuracy: 0.8838\n",
      "Epoch 21/40\n",
      "19/19 [==============================] - 1s 56ms/step - loss: 0.0642 - accuracy: 0.9800 - val_loss: 0.2741 - val_accuracy: 0.9108\n",
      "Epoch 22/40\n",
      "19/19 [==============================] - 1s 58ms/step - loss: 0.0534 - accuracy: 0.9817 - val_loss: 0.2778 - val_accuracy: 0.9100\n",
      "Epoch 23/40\n",
      "19/19 [==============================] - 1s 57ms/step - loss: 0.0408 - accuracy: 0.9917 - val_loss: 0.2972 - val_accuracy: 0.9004\n",
      "Epoch 24/40\n",
      "19/19 [==============================] - 1s 54ms/step - loss: 0.0258 - accuracy: 0.9967 - val_loss: 0.3313 - val_accuracy: 0.9075\n",
      "Epoch 25/40\n",
      "19/19 [==============================] - 1s 52ms/step - loss: 0.0218 - accuracy: 0.9967 - val_loss: 0.3288 - val_accuracy: 0.9058\n",
      "Epoch 26/40\n",
      "19/19 [==============================] - 1s 51ms/step - loss: 0.0200 - accuracy: 0.9950 - val_loss: 0.3169 - val_accuracy: 0.9121\n",
      "Epoch 27/40\n",
      "19/19 [==============================] - 1s 51ms/step - loss: 0.0209 - accuracy: 0.9950 - val_loss: 0.3560 - val_accuracy: 0.8988\n",
      "Epoch 28/40\n",
      "19/19 [==============================] - 1s 51ms/step - loss: 0.0220 - accuracy: 0.9950 - val_loss: 0.3473 - val_accuracy: 0.9096\n",
      "Epoch 29/40\n",
      "19/19 [==============================] - 1s 52ms/step - loss: 0.0249 - accuracy: 0.9933 - val_loss: 0.3297 - val_accuracy: 0.9112\n",
      "Epoch 30/40\n",
      "19/19 [==============================] - 1s 55ms/step - loss: 0.0175 - accuracy: 0.9983 - val_loss: 0.3326 - val_accuracy: 0.9162\n",
      "Epoch 31/40\n",
      "19/19 [==============================] - 1s 52ms/step - loss: 0.0187 - accuracy: 0.9933 - val_loss: 0.3142 - val_accuracy: 0.9196\n",
      "Epoch 32/40\n",
      "19/19 [==============================] - 1s 53ms/step - loss: 0.0363 - accuracy: 0.9900 - val_loss: 0.3536 - val_accuracy: 0.9054\n",
      "Epoch 33/40\n",
      "19/19 [==============================] - 1s 52ms/step - loss: 0.0271 - accuracy: 0.9900 - val_loss: 0.3712 - val_accuracy: 0.9146\n",
      "Epoch 34/40\n",
      "19/19 [==============================] - 1s 51ms/step - loss: 0.0206 - accuracy: 0.9967 - val_loss: 0.3443 - val_accuracy: 0.9200\n",
      "Epoch 35/40\n",
      "19/19 [==============================] - 1s 51ms/step - loss: 0.0173 - accuracy: 0.9950 - val_loss: 0.3376 - val_accuracy: 0.9192\n",
      "Epoch 36/40\n",
      "19/19 [==============================] - 1s 51ms/step - loss: 0.0098 - accuracy: 0.9983 - val_loss: 0.3889 - val_accuracy: 0.9217\n",
      "Epoch 37/40\n",
      "19/19 [==============================] - 1s 51ms/step - loss: 0.0089 - accuracy: 0.9983 - val_loss: 0.4648 - val_accuracy: 0.9158\n",
      "Epoch 38/40\n",
      "19/19 [==============================] - 1s 54ms/step - loss: 0.0303 - accuracy: 0.9867 - val_loss: 0.3131 - val_accuracy: 0.9212\n",
      "Epoch 39/40\n",
      "19/19 [==============================] - 1s 51ms/step - loss: 0.0121 - accuracy: 0.9983 - val_loss: 0.3693 - val_accuracy: 0.9221\n",
      "Epoch 40/40\n",
      "19/19 [==============================] - 1s 51ms/step - loss: 0.0056 - accuracy: 0.9983 - val_loss: 0.3885 - val_accuracy: 0.9225\n"
     ]
    },
    {
     "name": "stderr",
     "output_type": "stream",
     "text": [
      "c:\\Python311\\Lib\\site-packages\\keras\\src\\engine\\training.py:3103: UserWarning: You are saving your model as an HDF5 file via `model.save()`. This file format is considered legacy. We recommend using instead the native Keras format, e.g. `model.save('my_model.keras')`.\n",
      "  saving_api.save_model(\n"
     ]
    }
   ],
   "source": [
    "model.add(Conv2D(32, (3, 3), input_shape=(64, 64, 3)))\n",
    "model.add(Activation('relu'))\n",
    "model.add(MaxPooling2D(pool_size=(2, 2)))\n",
    "\n",
    "model.add(Conv2D(32, (3, 3), kernel_initializer='he_uniform'))\n",
    "model.add(Activation('relu'))\n",
    "model.add(MaxPooling2D(pool_size=(2, 2)))\n",
    "\n",
    "model.add(Conv2D(32, (3, 3), kernel_initializer='he_uniform'))\n",
    "model.add(Activation('relu'))\n",
    "model.add(MaxPooling2D(pool_size=(2, 2)))\n",
    "\n",
    "model.add(Flatten())\n",
    "model.add(Dense(64))\n",
    "model.add(Activation('relu'))\n",
    "model.add(Dropout(0.5))\n",
    "\n",
    "model.add(Dense(2, activation='softmax'))  # Output layer for binary classification\n",
    "\n",
    "# Compile the model\n",
    "model.compile(loss='categorical_crossentropy', optimizer='adam', metrics=['accuracy'])\n",
    "\n",
    "# Fit the model\n",
    "model.fit(x_train, y_train, epochs=40, batch_size=32, verbose=1, validation_data=(x_test, y_test), shuffle=False)\n",
    "\n",
    "# Save the model\n",
    "model.save('BrainTumorceterofy10.h5')"
   ]
  },
  {
   "cell_type": "code",
   "execution_count": 74,
   "metadata": {},
   "outputs": [],
   "source": [
    "from keras.models import load_model\n",
    "model=load_model('BrainTumorceterofy10.h5')"
   ]
  },
  {
   "cell_type": "code",
   "execution_count": 75,
   "metadata": {},
   "outputs": [],
   "source": [
    "img=cv2.imread('pred\\pred0.jpg')"
   ]
  },
  {
   "cell_type": "code",
   "execution_count": 76,
   "metadata": {},
   "outputs": [
    {
     "name": "stdout",
     "output_type": "stream",
     "text": [
      "1/1 [==============================] - 0s 115ms/step\n"
     ]
    },
    {
     "data": {
      "image/png": "[encoded data removed]",
      "text/plain": [
       "<Figure size 640x480 with 1 Axes>"
      ]
     },
     "metadata": {},
     "output_type": "display_data"
    }
   ],
   "source": [
    "from PIL import Image\n",
    "import numpy as np\n",
    "import matplotlib.pyplot as plt\n",
    "\n",
    "# Assuming you have a pre-trained model loaded, replace 'model' with your actual model variable\n",
    "# For example: model = load_model('your_model.h5')\n",
    "\n",
    "# Assuming 'img' is your input image as a NumPy array\n",
    "# If you have a file path instead, use: img = Image.open('your_image.jpg')\n",
    "# Make sure to adjust the file path accordingly.\n",
    "\n",
    "img = Image.fromarray(img)\n",
    "img = img.resize((64, 64))\n",
    "img_array = np.array(img)\n",
    "input_img = np.expand_dims(img_array, axis=0)\n",
    "\n",
    "# Assuming your model predicts probabilities for each class, use predict instead of predict_classes\n",
    "# The use of predict_classes is deprecated in newer versions of TensorFlow/Keras.\n",
    "# Use model.predict() and then find the index of the maximum value to get the predicted class.\n",
    "predictions = model.predict(input_img)\n",
    "predicted_class = np.argmax(predictions)\n",
    "\n",
    "plt.imshow(img_array)\n",
    "plt.axis('off')  # Turn off axis labels\n",
    "plt.title(\"Brain Tumor is present\" if predicted_class == 1 else \"No tumor\")\n",
    "plt.show()"
   ]
  },
  {
   "cell_type": "markdown",
   "metadata": {},
   "source": []
  },
  {
   "cell_type": "code",
   "execution_count": 81,
   "metadata": {},
   "outputs": [],
   "source": [
    "img=cv2.imread('pred\\pred7.jpg')"
   ]
  },
  {
   "cell_type": "code",
   "execution_count": 82,
   "metadata": {},
   "outputs": [
    {
     "name": "stdout",
     "output_type": "stream",
     "text": [
      "1/1 [==============================] - 0s 26ms/step\n"
     ]
    },
    {
     "data": {
      "image/png": "[encoded data removed]",
      "text/plain": [
       "<Figure size 640x480 with 1 Axes>"
      ]
     },
     "metadata": {},
     "output_type": "display_data"
    }
   ],
   "source": [
    "from PIL import Image\n",
    "import numpy as np\n",
    "import matplotlib.pyplot as plt\n",
    "\n",
    "# Assuming you have a pre-trained model loaded, replace 'model' with your actual model variable\n",
    "# For example: model = load_model('your_model.h5')\n",
    "\n",
    "# Assuming 'img' is your input image as a NumPy array\n",
    "# If you have a file path instead, use: img = Image.open('your_image.jpg')\n",
    "# Make sure to adjust the file path accordingly.\n",
    "\n",
    "img = Image.fromarray(img)\n",
    "img = img.resize((64, 64))\n",
    "img_array = np.array(img)\n",
    "input_img = np.expand_dims(img_array, axis=0)\n",
    "\n",
    "# Assuming your model predicts probabilities for each class, use predict instead of predict_classes\n",
    "# The use of predict_classes is deprecated in newer versions of TensorFlow/Keras.\n",
    "# Use model.predict() and then find the index of the maximum value to get the predicted class.\n",
    "predictions = model.predict(input_img)\n",
    "predicted_class = np.argmax(predictions)\n",
    "\n",
    "plt.imshow(img_array)\n",
    "plt.axis('off')  # Turn off axis labels\n",
    "plt.title(\"Brain Tumor is present\" if predicted_class == 1 else \"No tumor\")\n",
    "plt.show()"
   ]
  },
  {
   "cell_type": "code",
   "execution_count": null,
   "metadata": {},
   "outputs": [],
   "source": []
  }
 ],
 "metadata": {
  "kernelspec": {
   "display_name": "Python 3",
   "language": "python",
   "name": "python3"
  },
  "language_info": {
   "codemirror_mode": {
    "name": "ipython",
    "version": 3
   },
   "file_extension": ".py",
   "mimetype": "text/x-python",
   "name": "python",
   "nbconvert_exporter": "python",
   "pygments_lexer": "ipython3",
   "version": "3.11.0"
  }
 },
 "nbformat": 4,
 "nbformat_minor": 2
}
